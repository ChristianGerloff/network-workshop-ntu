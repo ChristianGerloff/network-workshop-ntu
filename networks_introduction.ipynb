{
  "cells": [
    {
      "cell_type": "markdown",
      "metadata": {
        "id": "2PhEDIK1yAck"
      },
      "source": [
        "# Introduction to Network Analysis\n",
        "\n",
        "***Christian Gerloff*** <br><br>\n",
        "### Get started with the course materials\n",
        "To interactively work with the materials, you can open this notebook in  [google colab](https://https://colab.research.google.com/). \n",
        "<br><br>\n"
      ]
    },
    {
      "cell_type": "markdown",
      "metadata": {
        "id": "wNN-EKoNaqFJ"
      },
      "source": [
        "## 1 Preparation"
      ]
    },
    {
      "cell_type": "markdown",
      "metadata": {
        "id": "UaPOCy9PNcRW"
      },
      "source": [
        "### 1.1 Install required packages\n",
        "Here we install the required packages. <br><br>"
      ]
    },
    {
      "cell_type": "code",
      "execution_count": null,
      "metadata": {
        "id": "aOy4Tn1kbNds"
      },
      "outputs": [],
      "source": [
        "!pip -q install networkx scipy seaborn\n",
        "\n",
        "!git clone https://github.com/ChristianGerloff/network-workshop-ntu.git /content/repo\n",
        "!cp -r /content/repo/assets /content/assets\n",
        "!cp -r /content/repo/data /content/data\n",
        "!rm -rf /content/repo"
      ]
    },
    {
      "cell_type": "code",
      "execution_count": null,
      "metadata": {
        "id": "bwl87IbXrc4E"
      },
      "outputs": [],
      "source": [
        "import numpy as np\n",
        "import networkx as nx\n",
        "import seaborn as sns\n",
        "import pickle\n",
        "from pathlib import Path\n",
        "from IPython.display import Image\n",
        "from matplotlib import pyplot as plt\n",
        "\n",
        "PATH_ASSETS = Path().cwd() / \"assets\"\n",
        "PATH_DATA = Path().cwd() / \"data\""
      ]
    },
    {
      "cell_type": "markdown",
      "metadata": {
        "id": "LrShsi9gaoqd"
      },
      "source": [
        "\n",
        "## 2. Networks, sounds good but what is it?\n",
        "\n",
        "Networks occur in many areas of our lives. We can find them in social networks, the internet, the brain, and many other areas. Networks are a powerful tool to describe and analyze complex systems. In this section, we will introduce the basic concepts of networks."
      ]
    },
    {
      "cell_type": "markdown",
      "metadata": {
        "id": "_TPh5pigNsj5"
      },
      "source": [
        "### 2.1 What is a network?\n",
        "\n",
        "Networks, formerly termed graphs, are system representations<br><br>\n",
        "\n",
        "They can be described by two main components:\n",
        "\n",
        "***nodes***: representing the entities of a graph,<br>\n",
        "***edges***: describging the \"relationships\" between the entities in the graph.\n",
        "\n",
        "Hence, a graph $G$ is defined as a tuple $G = (V, E)$, where V is a set of nodes and $E$ is a set of edges, linking the nodes. <br><br>\n",
        "One can also describe a graph by its ***adjacency matrix*** $A$, where $A_{ij}$ describes the edge between node $i$ and node $j$. <br><br>\n",
        "\n",
        "An edge $e$ can be described by binary {0,1} or weighted values $w$ (e.g. $w \\in \\mathbb{R}$), describing the strength of the relationship between the nodes. <br><br>\n",
        "\n",
        " <br><br>\n",
        "***Q***: For which of your research data could you descibe the data as a network? <br><br>"
      ]
    },
    {
      "cell_type": "code",
      "execution_count": null,
      "metadata": {},
      "outputs": [],
      "source": [
        "# Here, we generate a random graph\n",
        "G = nx.erdos_renyi_graph(10, 0.3)\n",
        "pos = nx.spring_layout(G)\n",
        "nx.draw(G, pos, with_labels=True, node_color=\"#1f78b4\", edge_color=\"#1f78b4\")\n",
        "plt.show()\n",
        "\n",
        "# The adjacency matrix of the graph is often visualized as a heatmap\n",
        "A = nx.adjacency_matrix(G).todense()\n",
        "sns.heatmap(A, annot=True, xticklabels=G.nodes(), yticklabels=G.nodes(), cmap=\"Blues\")"
      ]
    },
    {
      "cell_type": "markdown",
      "metadata": {},
      "source": [
        "### 2.2 Important networks characteristics\n",
        "\n",
        "Generally, we could distinguish between: \n",
        "* ***directed*** and ***undirected***,\n",
        "* ***weighted*** and  ***unweighted***,\n",
        "* ***unipartite*** and ***bipartite***,\n",
        "* ***fully connected*** and ***weakly connected*** and ***disconnected*** networks,\n",
        "* ***static*** and ***dynamic*** network analysis. <br><br>\n",
        "\n",
        "| Type | Description | Interpretation |\n",
        "| --- | --- | --- |\n",
        "| Undirected | Edges are not directed, i.e. $A_{ij} = A_{ji}$ (symmetric adjacency matrix) | E.g., can not differenciate who is the sender and who is the receiver / who leads the interaction |\n",
        "| Directed | Edges are directed, i.e. $A_{ij} \\neq A_{ji}$ (asymmetric adjacency matrix) | E.g., can differenciate who is the sender and who is the receiver / who leads the interaction |\n",
        "| Unweighted | Edges are not weighted, i.e. $A_{ij} \\in \\{0,1\\}$ | E.g., can not differenciate between strong and weak interactions |\n",
        "| Weighted | Edges are weighted, i.e. $A_{ij} \\in \\mathbb{R}$ | E.g., can differenciate between strong and weak interactions |\n",
        "| unipartite | Nodes are not partitioned into groups | E.g., can not differenciate between different groups of nodes |\n",
        "| \"X\"partite | Nodes are partitioned into X groups, i.e. $V = \\{V_1, V_2, ..., V_n\\}$ | E.g., we can differenciate between different groups of nodes |\n",
        "| fully connected | All nodes are connected to each other | E.g., all nodes are linked |\n",
        "| weakly connected | All nodes are connected to each other, but not necessarily directly | E.g., we can reach all nodes from each other, but not necessarily directly |\n",
        "| disconnected | undirected graph disconnected if there exist a node that can not be reached from at least one other node ||\n",
        "| Static | Static network analysis, i.e. $A$ is constant over time | E.g., can not differenciate between different time points |\n",
        "| Dynamic | Dynamic network analysis, i.e. $A$ is not constant over time or a set of adjacency matrices | E.g., we aim to assess changes in the system over time |\n"
      ]
    },
    {
      "cell_type": "code",
      "execution_count": null,
      "metadata": {},
      "outputs": [],
      "source": [
        "# We specify a set of nodes V\n",
        "V = [0, 1, 2, 3, 4]\n",
        "\n",
        "# But here we want to use the names of the MRT stations as node labels\n",
        "V = {0: \"Orchard Road\", 1: \"Somerset\", 2: \"Dhoby Ghaut\", 3: \"City Hall\", 4: \"Raffles Place\"}\n",
        "\n",
        "# And additionally, we specify the positions of the nodes\n",
        "mrt_stations = {\n",
        "    \"Orchard Road\": {\"easting\": -329263, \"northing\": 282260},\n",
        "    \"Somerset\": {\"easting\": -329155, \"northing\": 282182},\n",
        "    \"Dhoby Ghaut\": {\"easting\": -329076, \"northing\": 282101},\n",
        "    \"City Hall\": {\"easting\": -328919, \"northing\": 282054},\n",
        "    \"Raffles Place\": {\"easting\": -328809, \"northing\": 281927}\n",
        "}\n",
        "pos = {v: (mrt_stations[n][\"easting\"], mrt_stations[n][\"northing\"]) for v, n in V.items()}\n",
        "# We specify a set of edges E as a list of tuples (i, j)\n",
        "E = [(0, 1), (1, 2), (2, 3), (3, 4), (4, 0)]\n",
        "# We specify the edge weights as a dictionary\n",
        "weights = {(0, 1): 1, (1, 2): 0, (2, 3): 1, (3, 4): 0, (4, 0): 1}\n",
        "# We create a graph\n",
        "G = nx.Graph()\n",
        "# We add the nodes with labels, otherwise it would be G.add_nodes_from(V)\n",
        "for node, label in V.items():\n",
        "    G.add_node(node, label=label)\n",
        "# We add the edges\n",
        "G.add_edges_from(E)\n",
        "# We set the edge weights\n",
        "nx.set_edge_attributes(G, weights, \"weight\")\n",
        "# We set the node labels\n",
        "labels = nx.get_node_attributes(G, 'label')\n",
        "# We visualize the graph with node labels\n",
        "nx.draw(G, pos, labels=labels, with_labels=True, node_color=\"#1f78b4\", edge_color=\"#1f78b4\")\n"
      ]
    },
    {
      "cell_type": "markdown",
      "metadata": {},
      "source": [
        "***Q***: Is it necessary to specify the weights of the edges in this case?"
      ]
    },
    {
      "cell_type": "code",
      "execution_count": null,
      "metadata": {},
      "outputs": [],
      "source": [
        "G = nx.karate_club_graph()\n",
        "pos = nx.spring_layout(G)\n",
        "nx.draw(G, pos, with_labels=True, node_color=\"#1f78b4\", edge_color=\"#1f78b4\")\n",
        "plt.show()\n",
        "\n",
        "\n",
        "A = nx.adjacency_matrix(G).todense()\n",
        "sns.heatmap(\n",
        "    A,\n",
        "    annot=True,\n",
        "    xticklabels=G.nodes(),\n",
        "    yticklabels=G.nodes(),\n",
        "    cmap=\"Blues\",\n",
        "    mask=(A == 0),\n",
        ")"
      ]
    },
    {
      "cell_type": "markdown",
      "metadata": {},
      "source": [
        "***Q***: What type of network is that?"
      ]
    },
    {
      "cell_type": "markdown",
      "metadata": {},
      "source": [
        "You can also specify the graph based on a adjacency matrix $A$. <br><br>\n",
        "\n",
        "```# specify the graph based on a adjacency matrix $A$\n",
        "A = np.array(\n",
        "    [\n",
        "        [0, 1, 0, 0, 1],\n",
        "        [1, 0, 1, 0, 0],\n",
        "        [0, 1, 0, 1, 0],\n",
        "        [0, 0, 1, 0, 1],\n",
        "        [1, 0, 0, 1, 0]\n",
        "    ]\n",
        ")\n",
        "# create the graph\n",
        "G = nx.from_numpy_matrix(A)\n",
        "```\n"
      ]
    },
    {
      "cell_type": "markdown",
      "metadata": {},
      "source": [
        "### Properties of networks\n",
        "\n",
        "Networks can be described by different properties. Some graph properties can be obtained for a specific node (nodal property)\n",
        "and some across the whole graph (global property). <br><br>\n",
        "\n",
        "#### Nodal degree\n",
        "\n",
        "The degree of a node $i$ is defined as the number of edges connected to the node $i$. <br><br>\n",
        "$d_i = \\sum_{j=1}^N A_{ij}$ <br><br>\n",
        "\n",
        "Nodal degree is also used to specify the degree matrix $D$.\n",
        "The degree matrix $D$ is a diagonal matrix, where $D_{ii} = d_i$. <br><br>\n",
        "\n",
        "#### Global degree\n",
        "\n",
        "The global degree of a graph $G$ is defined as the sum of all degrees of the nodes in the graph. <br><br>\n",
        "$d = \\sum_{i=1}^N d_i$ <br><br>\n",
        "\n",
        "#### Nodal strength\n",
        "\n",
        "The strength of a node $i$ is defined as the sum of the weights of all edges connected to the node $i$. <br><br>\n",
        "$s_i = \\sum_{j=1}^N A_{ij} w_{ij}$ <br><br>\n",
        "\n",
        "Sometimes the strength is also standardized, e.g, by the degree of the node $i$.\n",
        "There are setting where a standardization is crucial <br><br>\n",
        "\n",
        "\n",
        "#### Degree Centrality\n",
        "***Neuro / Hyperscanning perspective on this measure***: <br>\n",
        "important regions facilitating synchronization may have many connections.\n",
        "This centrality can be expressed by the number of neighbors.\n",
        "\n",
        "### Betweenness Centrality\n",
        "***Neuro / Hyperscanning perspective on this measure***: <br>\n",
        "important regions facilitating synchronization may connect other regions.\n",
        "\n",
        "FOr a node $i$, the betweenness centrality is defined as the number of shortest paths between all other nodes $j$ that pass through the node $i$. <br><br>\n",
        "\n",
        "$c_i = \\sum_{j \\neq i \\neq k} \\frac{\\sigma_{jk}(i)}{\\sigma_{jk}}$ <br><br>\n",
        "\n",
        "where $\\sigma_{jk}$ is the number of shortest paths between nodes $j$ and $k$ and $\\sigma_{jk}(i)$ is the number of shortest paths between nodes $j$ and $k$ that pass through node $i$. <br><br>\n",
        "**see also**: https://doi.org/10.1155/2014/241723\n",
        "\n",
        "### Modularity\n",
        "compares the number of edges inside a cluster to the expected number of edges in a random graph with the same nodal degree. \n",
        "It is used to identify strongly connected subsets, i.e., modules or 'communities', e.g, using the Louvain algorithm <br><br>\n",
        "\n",
        "The modularity value typically ranges from -1 to 1:\n",
        "\n",
        "A value close to 1 indicates strong community structure, meaning the network can be clearly divided into groups where there are many within-group edges and only a few between-group edges.\n",
        "A value around 0 suggests that the network's structure is not very different from a random network, in terms of expected within- and between-group edges.\n",
        "A negative modularity value would imply that the network connectivity is less modular than expected by chance\n",
        "\n",
        "### Graph Laplacien\n",
        "The graph Laplacian is defined as $L = D - A$, where $D$ is the degree matrix and $A$ is the adjacency matrix. <br><br>\n",
        "\n",
        "\n",
        "The eigenvalues of the Laplacian give insights into the connectivity of the graph. The smallest eigenvalue is always 0, and its multiplicity (the number of times it appears) equals the number of connected components in the graph. A graph is fully connected if and only if there is exactly one zero eigenvalue.\n",
        "\n",
        "The eigenvectors corresponding to the smallest eigenvalues (especially the second smallest, known as the Fiedler value) can reveal interesting structural properties about the graph, like clusters or \"bottlenecks\".\n"
      ]
    },
    {
      "cell_type": "code",
      "execution_count": null,
      "metadata": {},
      "outputs": [],
      "source": [
        "Image(PATH_ASSETS / 'overview.jpg')\n"
      ]
    },
    {
      "cell_type": "markdown",
      "metadata": {},
      "source": [
        "from Centento et al. 2022"
      ]
    },
    {
      "cell_type": "markdown",
      "metadata": {},
      "source": [
        "# 3 Networks for interpersonal neural synchronization\n",
        "\n",
        "Lets assume that we perform a hyperscanning study, where we measure EEG signals of mother-child dyad in Pz, Cz,, C3, C4, and Fz. <br><br>\n",
        "Hence, we have 5 channels for each 2 participant.\n",
        "THe set of all nodes of a dyad would include <br>\n",
        "$V=\\{Pz_{child}, Cz_{child}, C3_{child}, C4_{child}, Fz_{child}, Pz_{mother}, Cz_{mother}, C3_{mother}, C4_{mother}, Fz_{mother}\\}$ <br><br>\n",
        "\n",
        "\n",
        "In this case, we might be interested in the synchronization:\n",
        "1.  only between brain regions of the two participants (***interbrain*** network, or between-brain network)\n",
        "2.  only between brain regions within one participant (***intrabrain*** network),\n",
        "3.  both, between brain regions of the two participants and within each participant (***multibrain*** network)."
      ]
    },
    {
      "cell_type": "markdown",
      "metadata": {},
      "source": [
        "## 3.1 Interbrain networks\n",
        "\n",
        "1. To formulate the interbrain network, we can use the full set of nodes $V$ but we partion graph based on the participants in two disjoint sets. That means we partion our set $V$ into two sets $V_{child}$ and $V_{mother}$, where $V_{child}=\\{Pz_{child}, Cz_{child}, C3_{child}, C4_{child}, Fz_{child}\\}$ and $V_{mother}=\\{Pz_{mother}, Cz_{mother}, C3_{mother}, C4_{mother}, Fz_{mother}\\}$. <br><br>\n",
        "2. We consider only the edges between the two sets $V_{child}$ and $V_{mother}$, i.e. $E_{interbrain} = \\{e_{ij} \\in E | i \\in V_{child}, j \\in V_{mother}\\}$ <br><br>\n",
        "\n",
        "That means a interbrain network can be specified as: <br> \n",
        "$G_{interbrain} = (V_{child} \\cup V_{mother}, E_{interbrain})$. <br><br>\n",
        "\n",
        "Hence, ***interbrain networks are formally bipartite graphs***.\n",
        "\n",
        "### Main characteristics of bipartite graphs\n",
        "1. nodes and edges belong to a set (similar to unipartite graphs)<br>\n",
        "That means the node set contains only unique brain regions / channels and <br>\n",
        "edge set contains only unique connections between brain regions\n",
        "\n",
        "2.  edges can only occur between nodes of different partitions\n",
        "That means edges can only occur between brain regions / channels of different participants\n",
        "\n",
        "\n",
        "3. Graph properties of bipartite graph can have different meaning or may not be feasable <br><br>\n"
      ]
    },
    {
      "cell_type": "markdown",
      "metadata": {},
      "source": [
        "## 3.2 Graph reduction and stratification"
      ]
    },
    {
      "cell_type": "markdown",
      "metadata": {},
      "source": [
        "Analysis of complete graphs can tend to false-positive effects due to spurious connectivity.\n",
        "This is often combined with a binarization step of the adjacency matrix $A$. <br><br>\n",
        "\n",
        "Typical approaches are:\n",
        "* absolute thresholding of edges (e.g. only consider edges with a weight above a certain threshold)\n",
        "* proportional thresholding of edges (e.g. only consider the top X% (e.g, 25%) of edges with the highest weights)\n",
        "* statistical approaches\n",
        "\n",
        "Here, we do not elaborate on the details of the procedure, but see [![DOI: 10.1002/hbm.25966](https://img.shields.io/badge/DOI-10.1002%2Fhbm.25966-blue)](https://doi.org/10.1002/hbm.25966) for more information. <br><br>"
      ]
    },
    {
      "cell_type": "markdown",
      "metadata": {},
      "source": [
        "#### Network stratification for interaction related data\n",
        "\n",
        "For networks including dyadic or group based data we proposed a graph reduction procedure based on ***blockwise permutation*** of signals from ***non-interaction partners (shuffled / random pairs)***. This procedure draws on the conceptual design of hyperscannig as it provides a natural control for non-interaction related neural synchrony and allows to stratify for confounds already during the graph construction. By defining the exchangables, a stratification for experiment-specific confounds is enabled."
      ]
    },
    {
      "cell_type": "code",
      "execution_count": null,
      "metadata": {},
      "outputs": [],
      "source": [
        "Image(PATH_ASSETS / 'graph_reduction.png')"
      ]
    },
    {
      "cell_type": "markdown",
      "metadata": {},
      "source": [
        "from Gerloff et al. 2022"
      ]
    },
    {
      "cell_type": "markdown",
      "metadata": {},
      "source": [
        "## 3.3 Example analysis (static)\n",
        "\n",
        "In this example we will analyse a static graph. Based on the wPLI."
      ]
    },
    {
      "cell_type": "markdown",
      "metadata": {},
      "source": [
        "### 3.3.1 Load data"
      ]
    },
    {
      "cell_type": "code",
      "execution_count": null,
      "metadata": {},
      "outputs": [],
      "source": [
        "# load data\n",
        "with open(PATH_DATA / \"input\" / \"node_labels.pkl\", \"rb\") as handle:\n",
        "    node_labels = pickle.load(handle)\n",
        "with open(PATH_DATA / \"input\" / \"pos.pkl\", \"rb\") as handle:\n",
        "    pos = pickle.load(handle)\n",
        "with open(PATH_DATA / \"input\" / \"network_snapshots.pkl\", \"rb\") as handle:\n",
        "    snapshots = pickle.load(handle)\n",
        "static_graph = snapshots[3]\n",
        "with open(PATH_DATA / \"input\" / \"multilayer_network.pkl\", \"rb\") as handle:\n",
        "    multilayer_network = pickle.load(handle)\n",
        "\n",
        "plt.figure(figsize=(10, 10))\n",
        "nx.draw_networkx(\n",
        "    static_graph,\n",
        "    pos=pos,\n",
        "    labels=node_labels,\n",
        "    arrows=True,\n",
        "    with_labels=True\n",
        ")"
      ]
    },
    {
      "cell_type": "code",
      "execution_count": null,
      "metadata": {},
      "outputs": [],
      "source": [
        "# plot adjacency matrix\n",
        "A = nx.adjacency_matrix(static_graph).todense()\n",
        "plt.figure(figsize=(10, 10))\n",
        "\n",
        "sns.heatmap(\n",
        "    A,\n",
        "    annot=False,\n",
        "    xticklabels=node_labels.values(),\n",
        "    yticklabels=node_labels.values(),\n",
        "    cmap=\"Blues\",\n",
        "    vmin=0,\n",
        "    vmax=1\n",
        ")"
      ]
    },
    {
      "cell_type": "markdown",
      "metadata": {},
      "source": [
        "### 3.3.2 Graph properties"
      ]
    },
    {
      "cell_type": "markdown",
      "metadata": {},
      "source": [
        "#### Degree distribution\n",
        "The plot shos that the interbrain netowrk has a degree distribution that has a heavy tail (a few nodes with very high degree). This is a typical property of real-world networks. However, this property should be tested basd against a random graph with appropriate charactersitcs, see [![DOI: 10.1002/hbm.25966](https://img.shields.io/badge/DOI-10.1002%2Fhbm.25966-blue)](https://doi.org/10.1002/hbm.25966)."
      ]
    },
    {
      "cell_type": "code",
      "execution_count": null,
      "metadata": {},
      "outputs": [],
      "source": [
        "\n",
        "# convert DiDegreeView to networkx.Graph\n",
        "degs = dict(nx.degree(static_graph))\n",
        "\n",
        "# vizualize degree distribution dict via a histrogram\n",
        "plt.figure(figsize=(5, 5))\n",
        "sns.distplot(list(degs.values()), kde=False, bins=range(0, 20))\n",
        "plt.xlabel('Degree distribution')\n",
        "plt.ylabel('Counts')"
      ]
    },
    {
      "cell_type": "markdown",
      "metadata": {},
      "source": [
        "#### Strength Values ( intensity of interactions )\n",
        "The plot suggests variability in how nodes in the network are connected, with some nodes having stronger connections than others.\n",
        "There are no extremely high bars towards the right end of the histogram, suggesting there are not many nodes with a very high normalized strength. This could mean the network does not have nodes that are overwhelmingly more connected "
      ]
    },
    {
      "cell_type": "code",
      "execution_count": null,
      "metadata": {},
      "outputs": [],
      "source": [
        "strength = static_graph.degree(weight='weight')\n",
        "strengths = {node: val for (node, val) in strength}\n",
        "nx.set_node_attributes(static_graph, dict(strength), 'strength')\n",
        "\n",
        "# Normalized node strength\n",
        "normstrenghts = {node: val * 1/(len(static_graph.nodes)-1) for (node, val) in strength}\n",
        "nx.set_node_attributes(static_graph, normstrenghts, 'strengthnorm')\n",
        "normstrengthlist = np.array([val * 1/(len(static_graph.nodes)-1) for (node, val) in strength])\n",
        "\n",
        "# Plot normstrngtlist \n",
        "plt.figure(figsize=(5, 5))\n",
        "sns.distplot(normstrengthlist, kde=False, bins=20)\n",
        "plt.xlabel('Normalized strength distribution')\n",
        "plt.ylabel('Counts')"
      ]
    },
    {
      "cell_type": "markdown",
      "metadata": {},
      "source": [
        "#### High Frequency of Low Betweenness Centrality Values:\n",
        "The high bars on the left side of the histogram indicate that there are many nodes with low betweenness centrality values, close to 0. This suggests that most nodes do not often lie on the shortest paths between other pairs of nodes. This might be expected for interbrain networks, as the nodes are not directly connected to each other, but rather connected through regions of the other participant.\n",
        "\n",
        "#### Few Nodes with High Betweenness Centrality Values:\n",
        "There are very few nodes that have higher betweenness centrality values (as seen by the bars on the right side of the histogram). These nodes may have strategic positions within the network, potentially acting as critical connectors or 'bridges' between different parts of the graph."
      ]
    },
    {
      "cell_type": "markdown",
      "metadata": {},
      "source": [
        "#### Moderate modularity value:\n",
        "A value ~0.2 means there are more connections within groups than would be expected if the edges were distributed randomly, but the division is not entirely clear.\n",
        "\n",
        "Modularity value in this range, it's possible that some nodes may serve as bridges between communities, or that some communities may share many nodes.\n",
        "\n",
        "\n",
        "***Note***: Here, we provide a standard approach applicable to most networks. However, their are caveates for bipartite graphs."
      ]
    },
    {
      "cell_type": "code",
      "execution_count": null,
      "metadata": {},
      "outputs": [],
      "source": [
        "betweenness = nx.betweenness_centrality(static_graph, weight='distance', normalized=True) \n",
        "nx.set_node_attributes(static_graph, betweenness, 'bc')\n",
        "\n",
        "plt.figure(figsize=(5, 5))\n",
        "sns.distplot(list(betweenness.values()), kde=False, norm_hist=False)\n",
        "plt.xlabel('Betweenness Centrality Values')\n",
        "plt.ylabel('Counts')"
      ]
    },
    {
      "cell_type": "code",
      "execution_count": null,
      "metadata": {},
      "outputs": [],
      "source": [
        "partition = nx.community.louvain_communities(static_graph, weight='weight')\n",
        "modularity = nx.community.modularity(static_graph, partition, weight='weight')\n",
        "print(f'N partitions: {len(partition)}'\n",
        "      f'\\nModularity: {modularity}')\n"
      ]
    },
    {
      "cell_type": "markdown",
      "metadata": {},
      "source": [
        "# 4. A heuristical approach to network flexibility (dynamic networks)\n",
        "\n",
        "\n",
        "### 4.1 Neural flexibility\n",
        "The measures how a neural network reconfigures its connectivity patterns over time.\n",
        "Therefore a community detection is applied on multilayer networks to quantify how often a node changes its community assignment over time.\n",
        "\n",
        "\n",
        "### 4.2 Multiplex networks\n",
        "Earlyer, we loaded a list of graphs, where each graph represents a network at a specific time point, also termed snapshots.\n",
        "These snapshots can be used to formulate multilayer networks, where each layer represents a snapshot. <br><br>\n",
        "\n",
        "Here, we consider a weighted, undirected network"
      ]
    },
    {
      "cell_type": "code",
      "execution_count": null,
      "metadata": {},
      "outputs": [],
      "source": [
        "Image(PATH_ASSETS / 'multilayer.png')"
      ]
    },
    {
      "cell_type": "code",
      "execution_count": null,
      "metadata": {},
      "outputs": [],
      "source": [
        "# plot adjacency matrix\n",
        "A = nx.adjacency_matrix(multilayer_network).todense()\n",
        "plt.figure(figsize=(10, 10))\n",
        "sns.heatmap(\n",
        "    A,\n",
        "    annot=False,\n",
        "    cmap=\"Blues\",\n",
        "    vmin=0,\n",
        "    vmax=1\n",
        ")\n",
        "# delete x and y ticks\n",
        "plt.xticks([])\n",
        "plt.yticks([])\n"
      ]
    },
    {
      "cell_type": "code",
      "execution_count": null,
      "metadata": {},
      "outputs": [],
      "source": [
        "partition = nx.community.louvain_communities(multilayer_network, weight='weight')\n",
        "\n",
        "community_map = {}\n",
        "for i, community in enumerate(partition):\n",
        "    for node in community:\n",
        "        original_node = multilayer_network.nodes[node]['original_node']\n",
        "        layer = multilayer_network.nodes[node]['layer']\n",
        "        community_map.setdefault(original_node, {}).update({layer: i})\n",
        "\n",
        "# Calculate nodal flexibility\n",
        "flexibility = {}\n",
        "for node, layers in community_map.items():\n",
        "    changes = sum(1 for i in range(1, len(layers)) if layers[i] != layers[i + 1])\n",
        "    max_changes = len(layers) - 1\n",
        "    flexibility[node] = changes / max_changes if max_changes > 0 else 0\n",
        "\n",
        "# map node_labels to flexibility\n",
        "flexibility = {val: flexibility.get(node) for (node, val) in node_labels.items()}\n",
        "\n",
        "plt.figure(figsize=(10, 5))\n",
        "sns.barplot(flexibility)\n",
        "sns.barplot(\n",
        "    x=list(flexibility.keys()),\n",
        "    y=list(flexibility.values()),\n",
        "    color=\"Orange\"\n",
        "  )\n",
        "plt.xticks(rotation=90)\n",
        "plt.xlabel('EEG Channels')\n",
        "plt.ylabel('Flexibility')\n",
        "plt.show()\n"
      ]
    },
    {
      "cell_type": "markdown",
      "metadata": {},
      "source": [
        "\n",
        "# Note\n",
        "Here we performed a basic community detection. In our recent work, we improve this approach for a more precise and information-rich neural flexibility measure. However, this notebook shows the basic concepts for start into network analysis and complex system analysis <br><br>    "
      ]
    }
  ],
  "metadata": {
    "colab": {
      "collapsed_sections": [],
      "name": "HIDA-Workshop - Tracking.ipynb",
      "provenance": []
    },
    "interpreter": {
      "hash": "724d7f4835cb671c0cd3b6a80ea8ae7681ec35122d136ff0dffb937dc8baf58d"
    },
    "kernelspec": {
      "display_name": "Python 3.7.3 64-bit",
      "name": "python3"
    },
    "language_info": {
      "codemirror_mode": {
        "name": "ipython",
        "version": 3
      },
      "file_extension": ".py",
      "mimetype": "text/x-python",
      "name": "python",
      "nbconvert_exporter": "python",
      "pygments_lexer": "ipython3",
      "version": "3.8.8"
    }
  },
  "nbformat": 4,
  "nbformat_minor": 0
}
